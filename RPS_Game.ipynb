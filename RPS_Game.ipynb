{
 "cells": [
  {
   "cell_type": "code",
   "execution_count": 40,
   "metadata": {},
   "outputs": [
    {
     "name": "stdout",
     "output_type": "stream",
     "text": [
      "You chose Rock and the computer chose Scissors. You win!\n",
      "You have played 1 games.\n"
     ]
    }
   ],
   "source": [
    "\n",
    "def run_game():\n",
    "    import random\n",
    "\n",
    "    loss = 'You lose!'\n",
    "    win = 'You win!'\n",
    "    draw = 'You tie!'\n",
    "\n",
    "    choices = [\"Rock\", \"Paper\", \"Scissors\", 'Nothing' ]\n",
    "    rng = random.randint(0,2)\n",
    "    computer_choice = choices[rng]\n",
    "    #Uses random module to make a choice for the computer \n",
    "\n",
    "    player_choice = input(\"Please enter your choice (Rock, Paper or Scissors): \")\n",
    "    #Gets players choice\n",
    "\n",
    "    if player_choice == computer_choice :\n",
    "        outcome = draw\n",
    "\n",
    "    elif player_choice == 'Rock':\n",
    "        if computer_choice == 'Paper':\n",
    "            outcome = loss\n",
    "        else:\n",
    "            outcome = win\n",
    "\n",
    "    elif player_choice == 'Paper':\n",
    "        if computer_choice == 'Scissors':\n",
    "            outcome = loss\n",
    "        else:\n",
    "            outcome = win\n",
    "\n",
    "    elif player_choice == 'Scissors':\n",
    "        if computer_choice == 'Rock':\n",
    "            outcome = loss\n",
    "        else:\n",
    "            outcome = win\n",
    "    #Compares computer and player choices and determines the outcome of the game\n",
    "\n",
    "    \n",
    "\n",
    "    if outcome == loss or outcome == win or outcome == draw:\n",
    "        print(f'You chose {player_choice} and the computer chose {computer_choice}. {outcome}')\n",
    "    else:\n",
    "        print(f'You entered {player_choice}, which is not Rock, Paper or Scissors. What a shame!' )\n",
    "    #Displays outcome of the game to the user\n",
    "\n",
    "games = 0\n",
    "    \n",
    "while True:\n",
    "    run_game()\n",
    "    games = games + 1\n",
    "    print(f'You have played {games} games.')\n",
    "    \n",
    "    if games == 3:\n",
    "        break\n",
    "\n",
    "    else:\n",
    "        cont = input('Would you like to continue playing?[y/n]: ')\n",
    "\n",
    "        if cont =='n':\n",
    "            break\n",
    "#Repeats the game up to 3 times if the user wishes to continue, and records the total number of games played\n",
    "\n"
   ]
  },
  {
   "cell_type": "code",
   "execution_count": null,
   "metadata": {},
   "outputs": [],
   "source": []
  },
  {
   "cell_type": "code",
   "execution_count": null,
   "metadata": {},
   "outputs": [],
   "source": []
  },
  {
   "cell_type": "code",
   "execution_count": null,
   "metadata": {},
   "outputs": [],
   "source": []
  }
 ],
 "metadata": {
  "interpreter": {
   "hash": "505df292c1cf520464990ef625f5808e14a7cd3eaf4d836245befcc8c704e9bc"
  },
  "kernelspec": {
   "display_name": "Python 3.8.13 ('RPS_Env')",
   "language": "python",
   "name": "python3"
  },
  "language_info": {
   "codemirror_mode": {
    "name": "ipython",
    "version": 3
   },
   "file_extension": ".py",
   "mimetype": "text/x-python",
   "name": "python",
   "nbconvert_exporter": "python",
   "pygments_lexer": "ipython3",
   "version": "3.8.13"
  },
  "orig_nbformat": 4
 },
 "nbformat": 4,
 "nbformat_minor": 2
}
